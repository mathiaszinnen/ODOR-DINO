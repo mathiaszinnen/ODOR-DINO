{
 "cells": [
  {
   "cell_type": "code",
   "execution_count": 2,
   "id": "0b841110-b22b-4644-be62-18258ae151ba",
   "metadata": {},
   "outputs": [],
   "source": [
    "import json"
   ]
  },
  {
   "cell_type": "code",
   "execution_count": 4,
   "id": "26f4ee26-0abb-4c1a-b903-f6406c9dc244",
   "metadata": {},
   "outputs": [],
   "source": [
    "coco_pth = '/hdd/datasets/ODOR/coco-style/annotations/instances_val2017.json'\n",
    "target_pth = 'util/odor_id2name.json'\n",
    "with open(coco_pth) as f:\n",
    "    coco = json.load(f)\n",
    "catmap = {cat['id']: cat['name'] for cat in coco['categories']}\n",
    "with open(target_pth, 'w') as f:\n",
    "    json.dump(catmap,f)"
   ]
  },
  {
   "cell_type": "code",
   "execution_count": 3,
   "id": "2e290a00-49ca-4642-94ce-2152873e7f42",
   "metadata": {},
   "outputs": [],
   "source": [
    "coco_pth = '/hdd/datasets/ODOR-v3/coco-style/annotations/instances_val2017.json'\n",
    "target_pth = 'util/odor3_id2name.json'\n",
    "with open(coco_pth) as f:\n",
    "    coco = json.load(f)\n",
    "catmap = {cat['id']: cat['name'] for cat in coco['categories']}\n",
    "with open(target_pth, 'w') as f:\n",
    "    json.dump(catmap,f)"
   ]
  }
 ],
 "metadata": {
  "kernelspec": {
   "display_name": "Python 3",
   "language": "python",
   "name": "python3"
  },
  "language_info": {
   "codemirror_mode": {
    "name": "ipython",
    "version": 3
   },
   "file_extension": ".py",
   "mimetype": "text/x-python",
   "name": "python",
   "nbconvert_exporter": "python",
   "pygments_lexer": "ipython3",
   "version": "3.7.13"
  }
 },
 "nbformat": 4,
 "nbformat_minor": 5
}
